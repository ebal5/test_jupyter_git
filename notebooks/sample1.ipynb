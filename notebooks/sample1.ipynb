{
 "cells": [
  {
   "cell_type": "code",
   "execution_count": null,
   "id": "0",
   "metadata": {},
   "outputs": [],
   "source": [
    "%conda install -q pandas scikit-learn matplotlib"
   ]
  },
  {
   "cell_type": "code",
   "execution_count": null,
   "id": "1",
   "metadata": {},
   "outputs": [],
   "source": [
    "%load_ext autoreload\n",
    "%autoreload 2"
   ]
  },
  {
   "cell_type": "code",
   "execution_count": null,
   "id": "2",
   "metadata": {},
   "outputs": [],
   "source": [
    "import sys\n",
    "sys.path.append('../src')  # srcディレクトリへの相対パスを追加"
   ]
  },
  {
   "cell_type": "code",
   "execution_count": null,
   "id": "3",
   "metadata": {},
   "outputs": [],
   "source": [
    "from data_loader import load_iris_data\n",
    "from models import train_logistic_regression\n",
    "from visualizations import plot_pairplot, plot_heatmap\n",
    "from utils import split_data\n",
    "from evaluation import evaluate_model\n",
    "\n",
    "# Load and preprocess data\n",
    "df = load_iris_data()\n",
    "\n",
    "# Visualize data\n",
    "plot_pairplot(df)\n",
    "plot_heatmap(df)\n",
    "\n",
    "# Split data into train and test sets\n",
    "X_train, X_test, y_train, y_test = split_data(df)\n",
    "\n",
    "# Train and evaluate models\n",
    "lr_model = train_logistic_regression(X_train, y_train)\n",
    "lr_accuracy, lr_report = evaluate_model(lr_model, X_test, y_test)\n",
    "print(f\"Logistic Regression Accuracy: {lr_accuracy}\")\n",
    "print(f\"Logistic Regression Report:\\n{lr_report}\")"
   ]
  }
 ],
 "metadata": {
  "kernelspec": {
   "display_name": "Python 3 (ipykernel)",
   "language": "python",
   "name": "python3"
  },
  "language_info": {
   "codemirror_mode": {
    "name": "ipython",
    "version": 3
   },
   "file_extension": ".py",
   "mimetype": "text/x-python",
   "name": "python",
   "nbconvert_exporter": "python",
   "pygments_lexer": "ipython3",
   "version": "3.11.6"
  }
 },
 "nbformat": 4,
 "nbformat_minor": 5
}
